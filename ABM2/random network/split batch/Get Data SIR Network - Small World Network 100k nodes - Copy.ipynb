{
 "cells": [
  {
   "cell_type": "markdown",
   "metadata": {},
   "source": [
    "# Import Library"
   ]
  },
  {
   "cell_type": "code",
   "execution_count": 1,
   "metadata": {},
   "outputs": [
    {
     "name": "stdout",
     "output_type": "stream",
     "text": [
      "Requirement already satisfied: mesa in c:\\users\\lab01-19\\anaconda3\\lib\\site-packages (1.0.0)\n",
      "Requirement already satisfied: cookiecutter in c:\\users\\lab01-19\\anaconda3\\lib\\site-packages (from mesa) (1.7.3)\n",
      "Requirement already satisfied: tqdm in c:\\users\\lab01-19\\anaconda3\\lib\\site-packages (from mesa) (4.64.0)\n",
      "Requirement already satisfied: pandas in c:\\users\\lab01-19\\anaconda3\\lib\\site-packages (from mesa) (1.4.2)\n",
      "Requirement already satisfied: numpy in c:\\users\\lab01-19\\anaconda3\\lib\\site-packages (from mesa) (1.21.5)\n",
      "Requirement already satisfied: tornado in c:\\users\\lab01-19\\anaconda3\\lib\\site-packages (from mesa) (6.1)\n",
      "Requirement already satisfied: networkx in c:\\users\\lab01-19\\anaconda3\\lib\\site-packages (from mesa) (2.7.1)\n",
      "Requirement already satisfied: click in c:\\users\\lab01-19\\anaconda3\\lib\\site-packages (from mesa) (8.0.4)\n",
      "Requirement already satisfied: colorama in c:\\users\\lab01-19\\anaconda3\\lib\\site-packages (from click->mesa) (0.4.4)\n",
      "Requirement already satisfied: binaryornot>=0.4.4 in c:\\users\\lab01-19\\anaconda3\\lib\\site-packages (from cookiecutter->mesa) (0.4.4)\n",
      "Requirement already satisfied: requests>=2.23.0 in c:\\users\\lab01-19\\anaconda3\\lib\\site-packages (from cookiecutter->mesa) (2.27.1)\n",
      "Requirement already satisfied: Jinja2<4.0.0,>=2.7 in c:\\users\\lab01-19\\anaconda3\\lib\\site-packages (from cookiecutter->mesa) (2.11.3)\n",
      "Requirement already satisfied: python-slugify>=4.0.0 in c:\\users\\lab01-19\\anaconda3\\lib\\site-packages (from cookiecutter->mesa) (5.0.2)\n",
      "Requirement already satisfied: six>=1.10 in c:\\users\\lab01-19\\anaconda3\\lib\\site-packages (from cookiecutter->mesa) (1.16.0)\n",
      "Requirement already satisfied: jinja2-time>=0.2.0 in c:\\users\\lab01-19\\anaconda3\\lib\\site-packages (from cookiecutter->mesa) (0.2.0)\n",
      "Requirement already satisfied: poyo>=0.5.0 in c:\\users\\lab01-19\\anaconda3\\lib\\site-packages (from cookiecutter->mesa) (0.5.0)\n",
      "Requirement already satisfied: chardet>=3.0.2 in c:\\users\\lab01-19\\anaconda3\\lib\\site-packages (from binaryornot>=0.4.4->cookiecutter->mesa) (4.0.0)\n",
      "Requirement already satisfied: MarkupSafe>=0.23 in c:\\users\\lab01-19\\anaconda3\\lib\\site-packages (from Jinja2<4.0.0,>=2.7->cookiecutter->mesa) (2.0.1)\n",
      "Requirement already satisfied: arrow in c:\\users\\lab01-19\\anaconda3\\lib\\site-packages (from jinja2-time>=0.2.0->cookiecutter->mesa) (1.2.2)\n",
      "Requirement already satisfied: text-unidecode>=1.3 in c:\\users\\lab01-19\\anaconda3\\lib\\site-packages (from python-slugify>=4.0.0->cookiecutter->mesa) (1.3)\n",
      "Requirement already satisfied: idna<4,>=2.5 in c:\\users\\lab01-19\\anaconda3\\lib\\site-packages (from requests>=2.23.0->cookiecutter->mesa) (3.3)\n",
      "Requirement already satisfied: urllib3<1.27,>=1.21.1 in c:\\users\\lab01-19\\anaconda3\\lib\\site-packages (from requests>=2.23.0->cookiecutter->mesa) (1.26.9)\n",
      "Requirement already satisfied: charset-normalizer~=2.0.0 in c:\\users\\lab01-19\\anaconda3\\lib\\site-packages (from requests>=2.23.0->cookiecutter->mesa) (2.0.4)\n",
      "Requirement already satisfied: certifi>=2017.4.17 in c:\\users\\lab01-19\\anaconda3\\lib\\site-packages (from requests>=2.23.0->cookiecutter->mesa) (2021.10.8)\n",
      "Requirement already satisfied: python-dateutil>=2.7.0 in c:\\users\\lab01-19\\anaconda3\\lib\\site-packages (from arrow->jinja2-time>=0.2.0->cookiecutter->mesa) (2.8.2)\n",
      "Requirement already satisfied: pytz>=2020.1 in c:\\users\\lab01-19\\anaconda3\\lib\\site-packages (from pandas->mesa) (2021.3)\n"
     ]
    }
   ],
   "source": [
    "!pip install mesa\n",
    "from mesa import Agent, Model\n",
    "from mesa.time import SimultaneousActivation\n",
    "from mesa.space import NetworkGrid\n",
    "from mesa.datacollection import DataCollector"
   ]
  },
  {
   "cell_type": "code",
   "execution_count": 2,
   "metadata": {},
   "outputs": [],
   "source": [
    "import networkx as nx\n",
    "import time, enum, math, random, os\n",
    "import numpy as np\n",
    "import pandas as pd\n",
    "import pylab as plt\n",
    "import numpy as np\n",
    "import seaborn as sns\n",
    "import matplotlib.pylab as plt\n",
    "from matplotlib.colors import ListedColormap, LinearSegmentedColormap"
   ]
  },
  {
   "cell_type": "markdown",
   "metadata": {},
   "source": [
    "# Define Classes"
   ]
  },
  {
   "cell_type": "code",
   "execution_count": 3,
   "metadata": {},
   "outputs": [],
   "source": [
    "class State(enum.IntEnum):\n",
    "    susceptible = 0\n",
    "    infected = 1\n",
    "    immune = 2\n",
    "    exposed = 3"
   ]
  },
  {
   "cell_type": "code",
   "execution_count": 4,
   "metadata": {},
   "outputs": [],
   "source": [
    "class MyAgent(Agent):\n",
    "    \"\"\" An agent in an epidemic model.\"\"\"\n",
    "    def __init__(self, unique_id, model):\n",
    "        super().__init__(unique_id, model)\n",
    "        self.state = State.susceptible\n",
    "        self.infection_time = 0\n",
    "        self.recovery_time = 0\n",
    "\n",
    "    def status(self):\n",
    "        if self.state == State.infected:           \n",
    "            t = self.model.schedule.time-self.infection_time\n",
    "            if t >= self.recovery_time:          \n",
    "                self.state = State.immune\n",
    "                return\n",
    "            self.infect()\n",
    "\n",
    "    def infect(self):\n",
    "        neighbors_nodes = self.model.grid.get_neighbors(self.pos, include_center=False)\n",
    "        susceptible_neighbors = [\n",
    "            agent\n",
    "            for agent in self.model.grid.get_cell_list_contents(neighbors_nodes)\n",
    "            if agent.state is State.susceptible\n",
    "        ]\n",
    "        for a in susceptible_neighbors:\n",
    "            random_float = self.random.random() \n",
    "            if  random_float < self.model.inf_rate:\n",
    "                a.state = State.exposed\n",
    "\n",
    "    def step(self):\n",
    "        self.status()\n",
    "        \n",
    "    def advance(self):\n",
    "        if self.state == State.exposed:\n",
    "            self.state = State.infected\n",
    "            self.recovery_time = self.model.get_recovery_time()\n",
    "            self.infection_time = self.model.schedule.time"
   ]
  },
  {
   "cell_type": "code",
   "execution_count": 5,
   "metadata": {},
   "outputs": [],
   "source": [
    "class NetworkInfectionModel(Model):\n",
    "    \"\"\"A model for infection spread.\"\"\"\n",
    "    def __init__(self, graf, \n",
    "                 inf_rate=0.5, \n",
    "                 infected=2,\n",
    "                 recovery_days=21,\n",
    "                 recovery_sd=7, \n",
    "                 num_comms=None,\n",
    "                 comms=None,\n",
    "                 num_step=200,\n",
    "                 kind=''): \n",
    "        \n",
    "        self.num_nodes = len(graf.nodes())  \n",
    "        self.initial_outbreak_size = infected\n",
    "        self.recovery_days = recovery_days\n",
    "        self.recovery_sd = recovery_sd\n",
    "        self.inf_rate = inf_rate\n",
    "        self.num_step = num_step\n",
    "        \n",
    "        self.kind = kind\n",
    "        self.G = graf\n",
    "        self.grid = NetworkGrid(self.G)\n",
    "        self.cmap = ListedColormap([\"lightblue\", \"orange\", \"green\",])\n",
    "        \n",
    "        self.num_comms = num_comms\n",
    "        self.comms = comms            \n",
    "        \n",
    "        self.schedule = SimultaneousActivation(self)\n",
    "        self.running = True\n",
    "\n",
    "        infected_nodes = random.choices(range(0,self.num_nodes) ,k=self.initial_outbreak_size)\n",
    "        for i, node in enumerate(self.G.nodes()):\n",
    "            a = MyAgent(i+1, self)\n",
    "            self.schedule.add(a)\n",
    "            self.grid.place_agent(a, node)\n",
    "            \n",
    "            if i in infected_nodes:\n",
    "                a.state = State.infected\n",
    "                a.recovery_time = self.get_recovery_time()\n",
    "                a.infection_time = self.schedule.time\n",
    "                \n",
    "        self.datacollector = DataCollector(agent_reporters={\"State\": \"state\"})\n",
    "\n",
    "    def get_recovery_time(self):\n",
    "        return int(self.random.normalvariate(self.recovery_days,self.recovery_sd))\n",
    "    \n",
    "    def step(self):\n",
    "        self.datacollector.collect(self)\n",
    "        self.schedule.step()\n",
    "        \n",
    "    def get_column_data(self):\n",
    "        #pivot the model dataframe to get states count at each step\n",
    "        agent_state = self.datacollector.get_agent_vars_dataframe()\n",
    "        X = pd.pivot_table(agent_state.reset_index(),index='Step',columns='State',aggfunc=np.size,fill_value=0)    \n",
    "        labels = ['Susceptible','Infected','Removed']\n",
    "        X.columns = labels[:len(X.columns)]\n",
    "        return X\n",
    "\n",
    "    def plot_states(self,ax):    \n",
    "        steps = self.schedule.steps\n",
    "        X = self.get_column_data()\n",
    "        X.plot(ax=ax,lw=3,alpha=0.8)\n",
    "        return ax\n",
    "    \n",
    "    def run_by_steps(self):\n",
    "        for _ in range(self.num_step):\n",
    "            self.step()\n",
    "            \n",
    "    def plot_network(self,ax,title=''):\n",
    "        if self.comms==None:\n",
    "            nx.draw(self.G, self.pos, node_size=80, edge_color='gray', node_color=\"lightblue\", \n",
    "                    alpha=0.9,font_size=100,ax=ax)\n",
    "        else:\n",
    "            states = [int(i.state) for i in model.grid.get_all_cell_contents()]\n",
    "            nx.draw_networkx_edges(self.G, self.pos, alpha=0.5,ax=ax)\n",
    "            warna = plt.cm.get_cmap('hsv',self.num_comms)\n",
    "            for node, color in self.comms.items():\n",
    "                nx.draw_networkx_nodes(self.G, self.pos, [node], node_size=100,\n",
    "                                    node_color=[warna(color)],ax=ax)\n",
    "        ax.set_title(title,fontsize=30)\n",
    "        return ax"
   ]
  },
  {
   "cell_type": "code",
   "execution_count": 6,
   "metadata": {},
   "outputs": [],
   "source": [
    "def create_small_world_network(pop,node_degree,beta=0.5):\n",
    "    g = nx.watts_strogatz_graph(n = pop, k = node_degree, p = beta)\n",
    "    return g\n",
    "\n",
    "def create_random_network(pop,avg_degree,seed=None):\n",
    "    p_random = avg_degree/pop\n",
    "    g = nx.erdos_renyi_graph(n=pop, p=p_random,seed=seed)\n",
    "    return g\n",
    "\n",
    "def create_lattice_network(row,col,node_degree,periodic=False):\n",
    "    if node_degree == 2:\n",
    "        g = create_small_world_network(row*col,2,beta=0)\n",
    "    elif node_degree == 3:\n",
    "        g = nx.hexagonal_lattice_graph(row,col,periodic=periodic)\n",
    "\n",
    "    elif node_degree == 4:\n",
    "        g = nx.grid_2d_graph(row,col)\n",
    "\n",
    "    elif node_degree == 6:\n",
    "        g = nx.triangular_lattice_graph(row,col,periodic=periodic)\n",
    "\n",
    "    elif node_degree == 8:\n",
    "        g = nx.grid_2d_graph(row,col)\n",
    "        for i in range(row-1):\n",
    "            for j in range(col-1):\n",
    "                g.add_edge((i,j),(i+1,j+1))\n",
    "                g.add_edge((i,j+1),(i+1,j))\n",
    "    else:\n",
    "        raise \"Salah degree\"\n",
    "    return g\n",
    "\n",
    "def create_scale_free_network(pop,m):\n",
    "    g = nx.barabasi_albert_graph(pop,m)\n",
    "    return g\n",
    "\n",
    "def create_community_network(num_comms,num_nodes,avg_deg,p_out=None):\n",
    "    p_in = avg_deg / num_nodes\n",
    "    p_out = 1/(num_comms*num_nodes*3)\n",
    "#     if p_out == None: p_out  = 0.005\n",
    "    g = nx.planted_partition_graph(num_comms,num_nodes,p_in,p_out)\n",
    "    return g,pos,find_community(g,num_comms)\n",
    "\n",
    "def find_community(graph,num_comms):\n",
    "    c = best_partition(graph)\n",
    "    c_nodes = comm_nodes(c)\n",
    "    l = [(c[i],i) for i in c]\n",
    "    val = list(c.values())\n",
    "    hasil = [(val.count(i),i) for i in set(val)]\n",
    "    hasil.sort()\n",
    "    max_ = hasil[-num_comms:]\n",
    "    sisa = hasil[:-num_comms]\n",
    "    a = []\n",
    "    while sisa:\n",
    "        i,j = sisa.pop(0)\n",
    "        k,l = max_[0]\n",
    "        a.append((j,l))\n",
    "        max_[0] = (k+i,l)\n",
    "        max_.sort()\n",
    "    for i,j in a:\n",
    "        u = [k for k in c if c[k] == i]\n",
    "        for l in u:\n",
    "            c[l] = j\n",
    "            penghubung = random.choice(c_nodes[j])\n",
    "            graph.add_edge(penghubung,l)\n",
    "    val = list(c.values())\n",
    "    hasil = [(val.count(i),i) for i in set(val)]\n",
    "    hasil.sort()\n",
    "    last = [i[1] for i in hasil]\n",
    "    for i in c:\n",
    "        c[i] = last.index(c[i])\n",
    "    val = list(c.values())\n",
    "    hasil = [(val.count(i),i) for i in set(val)]\n",
    "    hasil.sort()\n",
    "    return c\n",
    "\n",
    "def comm_nodes(d):\n",
    "    # tujuan: dari {1:1,2:1,3:1} --> {1:[1,2,3]}\n",
    "    hasil = {i:[] for i in set(d.values())}\n",
    "    for i in d:\n",
    "        hasil[d[i]].append(i)\n",
    "    return hasil\n",
    "\n",
    "def save_figure(fig,directory,filename):\n",
    "    isExist = os.path.exists(directory)\n",
    "    if not isExist:\n",
    "        os.makedirs(directory)\n",
    "        print(\"The new directory is created!\")\n",
    "    fig.savefig(directory+\"/\"+filename+\".png\")\n",
    "    print(directory+\"/\"+filename+\".png\"+\" created!\")\n"
   ]
  },
  {
   "cell_type": "markdown",
   "metadata": {},
   "source": [
    "# Table History"
   ]
  },
  {
   "cell_type": "code",
   "execution_count": 11,
   "metadata": {},
   "outputs": [],
   "source": [
    "def get_history_from_100_model(graph,inf_rate,step=200):\n",
    "    list_max_infected = []\n",
    "    for j in range(100):\n",
    "        model = NetworkInfectionModel(graph,inf_rate)\n",
    "        for k in range(step):\n",
    "            model.step()\n",
    "        df = model.get_column_data().reset_index()\n",
    "        df.insert(loc=0,column='model',value=[j]*step)\n",
    "        list_max_infected.append(df)\n",
    "    return pd.concat(list_max_infected)"
   ]
  },
  {
   "cell_type": "code",
   "execution_count": null,
   "metadata": {
    "scrolled": false
   },
   "outputs": [
    {
     "name": "stdout",
     "output_type": "stream",
     "text": [
      "Starting... \n",
      "Getting data N=100000 k=2 inf_rate=0.1 at 0.000997304916381836\n"
     ]
    }
   ],
   "source": [
    "# Parameter sebenarnya\n",
    "N_list = [100000]\n",
    "k_list = [2,4,6,8,10]\n",
    "inf_rate_list = [0.1*i for i in range(1,100)]\n",
    "step=500\n",
    "\n",
    "# Cuma untuk coba\" (nanti bisa di #)\n",
    "# N_list = [50,100]\n",
    "# k_list = [2,4]\n",
    "# inf_rate_list = [.1,.2,.5,1]\n",
    "# step=100\n",
    "\n",
    "history_table=[]\n",
    "start_time = time.time()\n",
    "print(\"Starting... \")\n",
    "for N in N_list:\n",
    "    point_time_N = time.time()\n",
    "    df_list_k = []\n",
    "    \n",
    "    for k in k_list:\n",
    "        point_time_k = time.time()\n",
    "        df_list_inf_rate = []\n",
    "        \n",
    "        for inf_rate in inf_rate_list:\n",
    "            point_time_inf_rate = time.time()\n",
    "            print(f\"Getting data N={N} k={k} inf_rate={inf_rate} at {time.time()-start_time}\")\n",
    "            graph = create_small_world_network(N,k) # Ubah Create Grafnya Sesuain dengan graf masing\"\n",
    "            df = get_history_from_100_model(graph,inf_rate,step)\n",
    "            row_num = df.shape[0]\n",
    "            df.insert(loc=0,column='inf_rate',value=[inf_rate]*row_num)\n",
    "            df_list_inf_rate.append(df)\n",
    "            print(f\"Have got data N={N} k={k} inf_rate={inf_rate} in {round(time.time()-point_time_inf_rate,3)}s\")\n",
    "            \n",
    "        df = pd.concat(df_list_inf_rate)\n",
    "        row_num = df.shape[0]\n",
    "        df.insert(loc=0,column='k',value=[k]*row_num)\n",
    "        df_list_k.append(df)\n",
    "        print(f\"Have got data N={N} k={k} in {round(time.time()-point_time_k,3)}s\")\n",
    "        \n",
    "    df = pd.concat(df_list_k)\n",
    "    row_num = df.shape[0]\n",
    "    df.insert(loc=0,column='N',value=[N]*row_num)\n",
    "    history_table.append(df)\n",
    "    print(f\"Have got data N={N} in {round(time.time()-point_time_N,3)}s\")\n",
    "    \n",
    "history_table = pd.concat(history_table)\n",
    "display(history_table)\n",
    "\n",
    "print(\"Saving csv...\")\n",
    "history_table.to_csv(\"History_table.csv\",index=False)\n",
    "\n",
    "print(\"Finished ✨\")\n",
    "print(f\"Creating history table take {round(time.time()-start_time,3)}s\")\n",
    "\n"
   ]
  },
  {
   "cell_type": "code",
   "execution_count": null,
   "metadata": {},
   "outputs": [],
   "source": [
    "history_table[0].to_csv(\"History untuk Small World Network n=100000\",index=False)\n"
   ]
  },
  {
   "cell_type": "code",
   "execution_count": null,
   "metadata": {},
   "outputs": [],
   "source": [
    "history_table[0]"
   ]
  },
  {
   "cell_type": "markdown",
   "metadata": {},
   "source": [
    "# Box Plot Table & Heap Table"
   ]
  },
  {
   "cell_type": "code",
   "execution_count": null,
   "metadata": {},
   "outputs": [],
   "source": []
  },
  {
   "cell_type": "code",
   "execution_count": null,
   "metadata": {
    "scrolled": true
   },
   "outputs": [],
   "source": [
    "ht = history_table[0]\n",
    "jumlah_baris_dalam_model = step\n",
    "jumlah_baris_dalam_inf_rate = jumlah_baris_dalam_model*100\n",
    "jumlah_baris_dalam_k = jumlah_baris_dalam_inf_rate*len(inf_rate_list)\n",
    "jumlah_baris_dalam_N = jumlah_baris_dalam_k*len(k_list)\n",
    "# print(jumlah_baris_dalam_model)\n",
    "# print(jumlah_baris_dalam_inf_rate)\n",
    "# print(jumlah_baris_dalam_k)\n",
    "# print(jumlah_baris_dalam_N)\n",
    "\n",
    "df_i_list_box = []\n",
    "df_i_list_heap = []\n",
    "for i in range(len(N_list)):\n",
    "    df_i = ht[jumlah_baris_dalam_N*i:jumlah_baris_dalam_N*(i+1)]\n",
    "    df_j_list_box = []\n",
    "    df_j_list_heap = []\n",
    "\n",
    "    for j in range(len(k_list)):\n",
    "        df_j = df_i[jumlah_baris_dalam_k*j:jumlah_baris_dalam_k*(j+1)]\n",
    "        df_k_list_box = []\n",
    "        df_k_list_heap = []\n",
    "        \n",
    "        for k in range(len(inf_rate_list)):\n",
    "            df_k = df_j[jumlah_baris_dalam_inf_rate*k:jumlah_baris_dalam_inf_rate*(k+1)]\n",
    "            df_l_list_box = []\n",
    "            \n",
    "            for l in range(100):\n",
    "                df_l = df_k[jumlah_baris_dalam_model*l:jumlah_baris_dalam_model*(l+1)]\n",
    "                df_l = df_l[df_l[\"Infected\"] == df_l[\"Infected\"].max()]\n",
    "                df_l = df_l.loc[:,[\"Infected\",\"Step\"]].iloc[:1,:]\n",
    "                df_l_list_box.append(df_l)\n",
    "                \n",
    "            df = pd.concat(df_l_list_box).reset_index().reset_index().drop(columns=['index'])\n",
    "            df = df.rename(columns={\"level_0\":\"model\",\"Infected\":\"max_inf\",\"Step\":\"t_max\"})\n",
    "            row_num = df.shape[0]\n",
    "            df.insert(loc=0,column='inf_rate',value=[inf_rate_list[k]]*row_num)\n",
    "            df_k_list_heap.append([inf_rate_list[k],df[\"max_inf\"].max(),df[\"max_inf\"].mean(),df[\"t_max\"].max(),df[\"t_max\"].mean()])\n",
    "            df_k_list_box.append(df)\n",
    "        \n",
    "        \n",
    "        df_j_box = pd.concat(df_k_list_box)\n",
    "        row_num = df_j_box.shape[0]\n",
    "        df_j_box.insert(loc=0,column='k',value=[k_list[j]]*row_num)\n",
    "        df_j_list_box.append(df_j_box)\n",
    "        \n",
    "        df_j_heap = pd.DataFrame(df_k_list_heap,columns=[\"inf_rate\",\"max_inf(max)\",\"max_inf(mean)\",\"t_max(max)\",\"t_max(mean)\"])\n",
    "        row_num = df_j_heap.shape[0]\n",
    "        df_j_heap.insert(loc=0,column='k',value=[k_list[j]]*row_num)\n",
    "        df_j_list_heap.append(df_j_heap)\n",
    "        \n",
    "    df_i_box = pd.concat(df_j_list_box)\n",
    "    row_num = df_i_box.shape[0]\n",
    "    df_i_box.insert(loc=0,column='N',value=[N_list[i]]*row_num)\n",
    "    df_i_list_box.append(df_i_box)\n",
    "    \n",
    "    df_i_heap = pd.concat(df_j_list_heap)\n",
    "    row_num = df_i_heap.shape[0]\n",
    "    df_i_heap.insert(loc=0,column='N',value=[N_list[i]]*row_num)\n",
    "    df_i_list_heap.append(df_i_heap)\n",
    "    break\n",
    "    \n",
    "df_box = pd.concat(df_i_list_box)\n",
    "df_heap = pd.concat(df_i_list_heap)\n",
    "\n",
    "\n",
    "\n",
    "print(\"Saving csv...\")\n",
    "df_box.to_csv(\"Box_plot_table.csv\",index=False)\n",
    "df_heap.to_csv(\"Heap_map_table.csv\",index=False)\n",
    "\n",
    "print(\"Finished ✨\")\n",
    "display(df_box)\n",
    "display(df_heap)\n",
    "\n",
    "    \n",
    "\n",
    "            "
   ]
  },
  {
   "cell_type": "markdown",
   "metadata": {},
   "source": [
    "# History"
   ]
  },
  {
   "cell_type": "code",
   "execution_count": null,
   "metadata": {},
   "outputs": [],
   "source": []
  },
  {
   "cell_type": "markdown",
   "metadata": {},
   "source": [
    "# HeapMap"
   ]
  },
  {
   "cell_type": "code",
   "execution_count": null,
   "metadata": {},
   "outputs": [],
   "source": [
    "df_heap_50 = df_heap[df_heap.N == 50]\n",
    "df_heap_50"
   ]
  },
  {
   "cell_type": "code",
   "execution_count": null,
   "metadata": {},
   "outputs": [],
   "source": [
    "df_heap_50[\"k\"].unique()"
   ]
  },
  {
   "cell_type": "code",
   "execution_count": null,
   "metadata": {},
   "outputs": [],
   "source": [
    "ddd = df_heap_50.loc[:,[\"k\",\"max_inf(max)\"]].set_index(df_heap_50.inf_rate)\n",
    "ddd"
   ]
  },
  {
   "cell_type": "code",
   "execution_count": null,
   "metadata": {},
   "outputs": [],
   "source": [
    "heap_map = pd.concat((ddd[ddd.k==2],ddd[ddd.k==4]),axis=1).drop(columns=[\"k\"])\n",
    "heap_map"
   ]
  },
  {
   "cell_type": "code",
   "execution_count": null,
   "metadata": {},
   "outputs": [],
   "source": [
    "df_heap_50 = df_heap[df_heap.N == 50]\n",
    "MIMax = df_heap_50.loc[:,[\"k\",\"max_inf(max)\"]].set_index(df_heap_50.inf_rate)\n",
    "MIMax = pd.concat((MIMax[MIMax.k==2],MIMax[MIMax.k==4]),axis=1).drop(columns=[\"k\"])\n",
    "\n",
    "MIMean = df_heap_50.loc[:,[\"k\",\"max_inf(mean)\"]].set_index(df_heap_50.inf_rate)\n",
    "MIMean = pd.concat((MIMean[MIMean.k==2],MIMean[MIMean.k==4]),axis=1).drop(columns=[\"k\"])\n",
    "\n",
    "TMMax = df_heap_50.loc[:,[\"k\",\"t_max(max)\"]].set_index(df_heap_50.inf_rate)\n",
    "TMMax = pd.concat((TMMax[TMMax.k==2],TMMax[TMMax.k==4]),axis=1).drop(columns=[\"k\"])\n",
    "\n",
    "TMMean = df_heap_50.loc[:,[\"k\",\"t_max(mean)\"]].set_index(df_heap_50.inf_rate)\n",
    "TMMean = pd.concat((TMMean[TMMean.k==2],TMMean[TMMean.k==4]),axis=1).drop(columns=[\"k\"])\n"
   ]
  },
  {
   "cell_type": "code",
   "execution_count": null,
   "metadata": {
    "scrolled": true
   },
   "outputs": [],
   "source": [
    "fig,axes = plt.subplots(1,2,figsize=(10,7),sharex=True,sharey=True)\n",
    "\n",
    "ax1 = sns.heatmap(MIMax , linewidth = 0.5 ,annot = True, cmap = 'coolwarm',fmt='g',ax=axes[0])\n",
    "ax2 = sns.heatmap(MIMean , linewidth = 0.5 ,annot = True, cmap = 'coolwarm',fmt='g',ax=axes[1])\n",
    "\n",
    "plt.suptitle(\"Heapmap Max Infected (max & mean) \")\n",
    "ax1.set_yticklabels(df_heap_50[\"inf_rate\"].unique())\n",
    "ax1.set_xticklabels(df_heap_50[\"k\"].unique())\n",
    "ax2.set_yticklabels(df_heap_50[\"inf_rate\"].unique())\n",
    "ax2.set_xticklabels(df_heap_50[\"k\"].unique())\n",
    "ax1.set_xlabel(\"Degree\")\n",
    "ax2.set_xlabel(\"Degree\")\n",
    "plt.show()"
   ]
  },
  {
   "cell_type": "code",
   "execution_count": null,
   "metadata": {},
   "outputs": [],
   "source": [
    "fig,axes = plt.subplots(1,2,figsize=(10,10),sharex=True)\n",
    "ax1 = sns.heatmap(TMMax , linewidth = 0.5 ,annot = True, cmap = 'coolwarm',fmt='g',ax=axes[0])\n",
    "ax2 = sns.heatmap(TMMean , linewidth = 0.5 ,annot = True, cmap = 'coolwarm',fmt='g',ax=axes[1])\n",
    "\n",
    "plt.suptitle(\"Heapmap Time Max Infected (max & mean) \")\n",
    "ax1.set_yticklabels(df_heap_50[\"inf_rate\"].unique())\n",
    "ax1.set_xticklabels(df_heap_50[\"k\"].unique())\n",
    "ax2.set_yticklabels(df_heap_50[\"inf_rate\"].unique())\n",
    "ax2.set_xticklabels(df_heap_50[\"k\"].unique())\n",
    "ax1.set_xlabel(\"Degree\")\n",
    "ax2.set_xlabel(\"Degree\")\n",
    "plt.show()"
   ]
  },
  {
   "cell_type": "code",
   "execution_count": null,
   "metadata": {},
   "outputs": [],
   "source": [
    "sns.he"
   ]
  },
  {
   "cell_type": "code",
   "execution_count": null,
   "metadata": {},
   "outputs": [],
   "source": []
  },
  {
   "cell_type": "markdown",
   "metadata": {},
   "source": [
    "# Box Plot"
   ]
  },
  {
   "cell_type": "code",
   "execution_count": null,
   "metadata": {},
   "outputs": [],
   "source": [
    "df_box_1000 = df_box[df_box.N == 1000]"
   ]
  },
  {
   "cell_type": "code",
   "execution_count": null,
   "metadata": {},
   "outputs": [],
   "source": [
    "fig,ax = plt.subplots(figsize=(12,20))\n",
    "df_heap\n",
    "sns.set(font_scale = 1.5,style=\"whitegrid\")\n",
    "ax = sns.boxplot(x='max_inf',y='k',data=df_box_1000,hue='inf_rate',ax=ax,orient='h')\n",
    "plt.grid()\n",
    "plt.title(\"BoxPlot Random Network N=50\",fontsize=20)\n",
    "plt.show()"
   ]
  },
  {
   "cell_type": "code",
   "execution_count": null,
   "metadata": {},
   "outputs": [],
   "source": [
    "fig,ax = plt.subplots(figsize=(12,20))\n",
    "df_heap\n",
    "sns.set(font_scale = 1.5,style=\"whitegrid\")\n",
    "ax = sns.boxplot(x='t_max',y='k',data=df_box_50,hue='inf_rate',ax=ax,orient='h')\n",
    "plt.grid()\n",
    "plt.title(\"BoxPlot Random Network N=50 (time)\",fontsize=20)\n",
    "plt.show()"
   ]
  },
  {
   "cell_type": "code",
   "execution_count": null,
   "metadata": {},
   "outputs": [],
   "source": []
  },
  {
   "cell_type": "code",
   "execution_count": null,
   "metadata": {},
   "outputs": [],
   "source": []
  },
  {
   "cell_type": "code",
   "execution_count": null,
   "metadata": {},
   "outputs": [],
   "source": []
  }
 ],
 "metadata": {
  "kernelspec": {
   "display_name": "Python 3 (ipykernel)",
   "language": "python",
   "name": "python3"
  },
  "language_info": {
   "codemirror_mode": {
    "name": "ipython",
    "version": 3
   },
   "file_extension": ".py",
   "mimetype": "text/x-python",
   "name": "python",
   "nbconvert_exporter": "python",
   "pygments_lexer": "ipython3",
   "version": "3.9.12"
  }
 },
 "nbformat": 4,
 "nbformat_minor": 4
}
